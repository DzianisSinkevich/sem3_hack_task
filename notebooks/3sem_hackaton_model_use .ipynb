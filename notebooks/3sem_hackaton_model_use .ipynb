{
  "nbformat": 4,
  "nbformat_minor": 0,
  "metadata": {
    "colab": {
      "provenance": []
    },
    "kernelspec": {
      "name": "python3",
      "display_name": "Python 3"
    },
    "language_info": {
      "name": "python"
    }
  },
  "cells": [
    {
      "cell_type": "markdown",
      "source": [
        "# Проектный практикум 3. Учебная задача. Ч.3 Проверка генерации.\n",
        "\n",
        "Проверка работы модели.\n",
        "\n",
        "Шаги:\n",
        "1. Формируется строка с входными данными\n",
        "2. Запуск генерации"
      ],
      "metadata": {
        "id": "VsfJ603y0JJo"
      }
    },
    {
      "cell_type": "code",
      "execution_count": 1,
      "metadata": {
        "colab": {
          "base_uri": "https://localhost:8080/"
        },
        "id": "nmkjFD7O0IME",
        "outputId": "e9e81f7c-1bbc-4b05-fa38-93ac2adabd8b"
      },
      "outputs": [
        {
          "output_type": "stream",
          "name": "stdout",
          "text": [
            "Mounted at /content/drive\n"
          ]
        }
      ],
      "source": [
        "from google.colab import drive\n",
        "drive.mount('/content/drive')"
      ]
    },
    {
      "cell_type": "code",
      "source": [
        "from transformers import GPT2LMHeadModel, GPT2Tokenizer\n",
        "\n",
        "model = GPT2LMHeadModel.from_pretrained(\"/content/drive/MyDrive/invest/my_courses/ml_urfu/3 sem/hackaton/model\")\n",
        "tokenizer = GPT2Tokenizer.from_pretrained(\"/content/drive/MyDrive/invest/my_courses/ml_urfu/3 sem/hackaton/model\")"
      ],
      "metadata": {
        "id": "tXQ48-6O0nkB"
      },
      "execution_count": 17,
      "outputs": []
    },
    {
      "cell_type": "markdown",
      "source": [
        "##Составление вводных данных"
      ],
      "metadata": {
        "id": "JmXC4Bj9kqlq"
      }
    },
    {
      "cell_type": "code",
      "source": [
        "#@markdown Категория:\n",
        "cat = \"Салон красоты\" #@param [\"АЗС\", \"Рынок\", \"Продуктовый рынок\", \"Автостёкла\", \"Салон красоты\", \"Аптека\"]\n",
        "#@markdown Рейтинг:\n",
        "rating = 3.8 #@param {type:\"slider\", min:0, max:5, step:0.1}\n",
        "#@markdown Ключевые слова(через запятую):\n",
        "keyword = \"обслуживание, качество\" #@param {type:\"string\"}\n",
        "\n",
        "input_string = \"Категория: \" + cat + \"; Рейтинг: \" + str(rating) + \"; Ключевые слова: \" + keyword + \". Отзыв:\"\n",
        "\n",
        "print(\"Входные данные для генерации отзыва:\")\n",
        "input_string"
      ],
      "metadata": {
        "colab": {
          "base_uri": "https://localhost:8080/",
          "height": 53
        },
        "id": "AtFRVmGo234y",
        "outputId": "2729d68b-3364-4db7-ec02-c22246191720"
      },
      "execution_count": 28,
      "outputs": [
        {
          "output_type": "stream",
          "name": "stdout",
          "text": [
            "Входные данные для генерации отзыва:\n"
          ]
        },
        {
          "output_type": "execute_result",
          "data": {
            "text/plain": [
              "'Категория: Салон красоты; Рейтинг: 3.8; Ключевые слова: обслуживание, качество. Отзыв:'"
            ],
            "application/vnd.google.colaboratory.intrinsic+json": {
              "type": "string"
            }
          },
          "metadata": {},
          "execution_count": 28
        }
      ]
    },
    {
      "cell_type": "markdown",
      "source": [
        "##Генерация отзыва"
      ],
      "metadata": {
        "id": "s0a8wRMYkxBI"
      }
    },
    {
      "cell_type": "markdown",
      "source": [],
      "metadata": {
        "id": "LiWWsjBLlEB0"
      }
    },
    {
      "cell_type": "code",
      "source": [
        "# Генерация отзыва по заданным критериям\n",
        "input_ids = tokenizer.encode(input_string, return_tensors='pt').to(model.device)\n",
        "output = model.generate(\n",
        "    input_ids,\n",
        "    do_sample=True,\n",
        "    temperature=0.9,\n",
        "    max_length=240,\n",
        ")\n",
        "\n",
        "gen_comment = tokenizer.decode(output[0], skip_special_tokens=True)\n",
        "\n",
        "print(\"Результат генерации отзыва:\")\n",
        "gen_comment"
      ],
      "metadata": {
        "colab": {
          "base_uri": "https://localhost:8080/",
          "height": 122
        },
        "id": "8MSDBtrWgruj",
        "outputId": "d2e8dd6a-ead7-4f56-a657-5efb01138b3b"
      },
      "execution_count": 32,
      "outputs": [
        {
          "output_type": "stream",
          "name": "stdout",
          "text": [
            "Результат генерации отзыва:\n"
          ]
        },
        {
          "output_type": "execute_result",
          "data": {
            "text/plain": [
              "'Категория: Салон красоты; Рейтинг: 3.8; Ключевые слова: обслуживание, качество. Отзыв: 1. Администраторы. Не приветливые, без эмоций (как у соседей). Не объясняют, что именно они делали. Не предлагают свои персональные пожелания. 2. Мастер (Елизавета) - лицо салона - лицо студии. Подбирает, что тебе нравится. Забирает всё из корзины, что-то по просьбе клиента.\\\\n\\\\nЯ заказывала укладку на 4 руки. Мастер Елена, которая уже устала, ушла. Через несколько часов после моего ухода в салоне началась суматоха, а я была очень уставшая. Елена очень торопилась и волновалась, но когда я спросила у мастера, могу ли я сама помыть руки, мастер ответила, что руки помоют только в перчатках…\\\\n\\\\nВ конце апреля я решила посетить данный салон красоты, так как я ещё не успела получить свой заказ.\\\\n\\\\nПодобрала для меня красивый укладку, после я спросила как укладывать, чтобы не было ни единой морщинки, и чтобы мастер знала все рекомендации. На что мастер удивилась, что у меня очень темно-русые'"
            ],
            "application/vnd.google.colaboratory.intrinsic+json": {
              "type": "string"
            }
          },
          "metadata": {},
          "execution_count": 32
        }
      ]
    }
  ]
}