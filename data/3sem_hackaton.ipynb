{
  "nbformat": 4,
  "nbformat_minor": 0,
  "metadata": {
    "colab": {
      "provenance": []
    },
    "kernelspec": {
      "name": "python3",
      "display_name": "Python 3"
    },
    "language_info": {
      "name": "python"
    }
  },
  "cells": [
    {
      "cell_type": "markdown",
      "source": [
        "# Проектный практикум 3. Учебная задача\n",
        "\n",
        "## Задача:\n",
        "\n",
        "Создать нейронную сеть, способную генерировать текстовые отзывы о различных местах на основе определенных входных параметров, таких как категория места, средний рейтинг и ключевые слова.\n",
        "\n",
        "Данные: https://github.com/yandex/geo-reviews-dataset-2023"
      ],
      "metadata": {
        "id": "yh4VSDqV05X3"
      }
    },
    {
      "cell_type": "code",
      "execution_count": 2,
      "metadata": {
        "colab": {
          "base_uri": "https://localhost:8080/"
        },
        "id": "wxtJ3vL5z-ZW",
        "outputId": "808b15c3-a93b-4c1a-901a-156d6c11f990"
      },
      "outputs": [
        {
          "output_type": "stream",
          "name": "stdout",
          "text": [
            "Mounted at /content/drive\n"
          ]
        }
      ],
      "source": [
        "from google.colab import drive\n",
        "drive.mount('/content/drive')"
      ]
    },
    {
      "cell_type": "code",
      "source": [
        "import pandas as pd\n",
        "\n",
        "from pathlib import Path\n",
        "import warnings\n",
        "warnings.filterwarnings('ignore')\n",
        "pd.options.mode.chained_assignment = None\n",
        "\n",
        "DF_PATH = Path(\"/content/drive/MyDrive/invest/my_courses/ml_urfu/3 sem/hackaton/geo-reviews-dataset-2023.tskv\")"
      ],
      "metadata": {
        "id": "fbiC9sXL0Tkh"
      },
      "execution_count": 3,
      "outputs": []
    },
    {
      "cell_type": "code",
      "source": [
        "def parsing_line(line):\n",
        "    # Деление строки по символам табуляции\n",
        "    parts = line.strip().split(\"\\t\")\n",
        "    entry = {}\n",
        "    for part in parts:\n",
        "        # Деление на ключ и значение\n",
        "        key_value = part.split(\"=\", 1)  # деление по первому знаку =\n",
        "        if len(key_value) != 2:\n",
        "            continue  # если нет пары ключ-значение, то строка пропускается\n",
        "        key, value = key_value\n",
        "        key = key.strip()\n",
        "        value = value.strip()\n",
        "\n",
        "        # Преобразование значение рейтинга float в int\n",
        "        if key == \"rating\":  # Замена rating на ключ рейтинга\n",
        "            try:\n",
        "                entry[key] = int(float(value))  # Преобразование в float, затем в int\n",
        "            except ValueError:\n",
        "                entry[key] = None  # Если получаем ошибку, то сохраняем None\n",
        "        else:\n",
        "            entry[key] = value  # С\n",
        "\n",
        "    return entry"
      ],
      "metadata": {
        "id": "GJtYsjXw6K5j"
      },
      "execution_count": 6,
      "outputs": []
    },
    {
      "cell_type": "code",
      "source": [
        "with open(DF_PATH, mode='r') as f:\n",
        "    data = [parsing_line(line) for line in f if line.strip()]\n",
        "\n",
        "# Удаление пустых записей (если такие имеются)\n",
        "data = [entry for entry in data if entry]\n",
        "\n",
        "# Преобразуем в DataFrame\n",
        "df = pd.DataFrame(data)\n",
        "\n",
        "df.sample(5)"
      ],
      "metadata": {
        "colab": {
          "base_uri": "https://localhost:8080/",
          "height": 206
        },
        "id": "hdAZv4ee6L4j",
        "outputId": "c665521d-7200-4b25-8e31-60624c388d24"
      },
      "execution_count": 11,
      "outputs": [
        {
          "output_type": "execute_result",
          "data": {
            "text/plain": [
              "                                                  address            name_ru  \\\n",
              "28598   Республика Крым, Симферополь, улица Бела Куна, 43             Грифон   \n",
              "420329  Краснодарский край, Анапа, Красноармейская ули...  Центральный рынок   \n",
              "115694  Удмуртская Республика, Ижевск, Удмуртская улиц...         Prof-ton18   \n",
              "327054  Свердловская область, Екатеринбург, улица Сакк...         DluxStudio   \n",
              "2547                      Красноярск, улица Мечникова, 34       На Мечникова   \n",
              "\n",
              "        rating                                           rubrics  \\\n",
              "28598        5                                               АЗС   \n",
              "420329       5                           Рынок;Продуктовый рынок   \n",
              "115694       5                 Тонирование автостёкол;Автостёкла   \n",
              "327054       5  Салон красоты;Парикмахерская;Визажисты, стилисты   \n",
              "2547         5                                            Аптека   \n",
              "\n",
              "                                                     text  \n",
              "28598   Качество топлива вполне приемлемое на фоне ста...  \n",
              "420329  Я не весь обошла, но мне понравился . Саженцы ...  \n",
              "115694  Отличное место. Большой выбор различных плёнок...  \n",
              "327054  Много лет хожу в это место, все отлично, волос...  \n",
              "2547    Ставлю пятёрку только потому что в этой аптеке...  "
            ],
            "text/html": [
              "\n",
              "  <div id=\"df-4dd75b09-6806-40f8-b0c0-b242dbab0e39\" class=\"colab-df-container\">\n",
              "    <div>\n",
              "<style scoped>\n",
              "    .dataframe tbody tr th:only-of-type {\n",
              "        vertical-align: middle;\n",
              "    }\n",
              "\n",
              "    .dataframe tbody tr th {\n",
              "        vertical-align: top;\n",
              "    }\n",
              "\n",
              "    .dataframe thead th {\n",
              "        text-align: right;\n",
              "    }\n",
              "</style>\n",
              "<table border=\"1\" class=\"dataframe\">\n",
              "  <thead>\n",
              "    <tr style=\"text-align: right;\">\n",
              "      <th></th>\n",
              "      <th>address</th>\n",
              "      <th>name_ru</th>\n",
              "      <th>rating</th>\n",
              "      <th>rubrics</th>\n",
              "      <th>text</th>\n",
              "    </tr>\n",
              "  </thead>\n",
              "  <tbody>\n",
              "    <tr>\n",
              "      <th>28598</th>\n",
              "      <td>Республика Крым, Симферополь, улица Бела Куна, 43</td>\n",
              "      <td>Грифон</td>\n",
              "      <td>5</td>\n",
              "      <td>АЗС</td>\n",
              "      <td>Качество топлива вполне приемлемое на фоне ста...</td>\n",
              "    </tr>\n",
              "    <tr>\n",
              "      <th>420329</th>\n",
              "      <td>Краснодарский край, Анапа, Красноармейская ули...</td>\n",
              "      <td>Центральный рынок</td>\n",
              "      <td>5</td>\n",
              "      <td>Рынок;Продуктовый рынок</td>\n",
              "      <td>Я не весь обошла, но мне понравился . Саженцы ...</td>\n",
              "    </tr>\n",
              "    <tr>\n",
              "      <th>115694</th>\n",
              "      <td>Удмуртская Республика, Ижевск, Удмуртская улиц...</td>\n",
              "      <td>Prof-ton18</td>\n",
              "      <td>5</td>\n",
              "      <td>Тонирование автостёкол;Автостёкла</td>\n",
              "      <td>Отличное место. Большой выбор различных плёнок...</td>\n",
              "    </tr>\n",
              "    <tr>\n",
              "      <th>327054</th>\n",
              "      <td>Свердловская область, Екатеринбург, улица Сакк...</td>\n",
              "      <td>DluxStudio</td>\n",
              "      <td>5</td>\n",
              "      <td>Салон красоты;Парикмахерская;Визажисты, стилисты</td>\n",
              "      <td>Много лет хожу в это место, все отлично, волос...</td>\n",
              "    </tr>\n",
              "    <tr>\n",
              "      <th>2547</th>\n",
              "      <td>Красноярск, улица Мечникова, 34</td>\n",
              "      <td>На Мечникова</td>\n",
              "      <td>5</td>\n",
              "      <td>Аптека</td>\n",
              "      <td>Ставлю пятёрку только потому что в этой аптеке...</td>\n",
              "    </tr>\n",
              "  </tbody>\n",
              "</table>\n",
              "</div>\n",
              "    <div class=\"colab-df-buttons\">\n",
              "\n",
              "  <div class=\"colab-df-container\">\n",
              "    <button class=\"colab-df-convert\" onclick=\"convertToInteractive('df-4dd75b09-6806-40f8-b0c0-b242dbab0e39')\"\n",
              "            title=\"Convert this dataframe to an interactive table.\"\n",
              "            style=\"display:none;\">\n",
              "\n",
              "  <svg xmlns=\"http://www.w3.org/2000/svg\" height=\"24px\" viewBox=\"0 -960 960 960\">\n",
              "    <path d=\"M120-120v-720h720v720H120Zm60-500h600v-160H180v160Zm220 220h160v-160H400v160Zm0 220h160v-160H400v160ZM180-400h160v-160H180v160Zm440 0h160v-160H620v160ZM180-180h160v-160H180v160Zm440 0h160v-160H620v160Z\"/>\n",
              "  </svg>\n",
              "    </button>\n",
              "\n",
              "  <style>\n",
              "    .colab-df-container {\n",
              "      display:flex;\n",
              "      gap: 12px;\n",
              "    }\n",
              "\n",
              "    .colab-df-convert {\n",
              "      background-color: #E8F0FE;\n",
              "      border: none;\n",
              "      border-radius: 50%;\n",
              "      cursor: pointer;\n",
              "      display: none;\n",
              "      fill: #1967D2;\n",
              "      height: 32px;\n",
              "      padding: 0 0 0 0;\n",
              "      width: 32px;\n",
              "    }\n",
              "\n",
              "    .colab-df-convert:hover {\n",
              "      background-color: #E2EBFA;\n",
              "      box-shadow: 0px 1px 2px rgba(60, 64, 67, 0.3), 0px 1px 3px 1px rgba(60, 64, 67, 0.15);\n",
              "      fill: #174EA6;\n",
              "    }\n",
              "\n",
              "    .colab-df-buttons div {\n",
              "      margin-bottom: 4px;\n",
              "    }\n",
              "\n",
              "    [theme=dark] .colab-df-convert {\n",
              "      background-color: #3B4455;\n",
              "      fill: #D2E3FC;\n",
              "    }\n",
              "\n",
              "    [theme=dark] .colab-df-convert:hover {\n",
              "      background-color: #434B5C;\n",
              "      box-shadow: 0px 1px 3px 1px rgba(0, 0, 0, 0.15);\n",
              "      filter: drop-shadow(0px 1px 2px rgba(0, 0, 0, 0.3));\n",
              "      fill: #FFFFFF;\n",
              "    }\n",
              "  </style>\n",
              "\n",
              "    <script>\n",
              "      const buttonEl =\n",
              "        document.querySelector('#df-4dd75b09-6806-40f8-b0c0-b242dbab0e39 button.colab-df-convert');\n",
              "      buttonEl.style.display =\n",
              "        google.colab.kernel.accessAllowed ? 'block' : 'none';\n",
              "\n",
              "      async function convertToInteractive(key) {\n",
              "        const element = document.querySelector('#df-4dd75b09-6806-40f8-b0c0-b242dbab0e39');\n",
              "        const dataTable =\n",
              "          await google.colab.kernel.invokeFunction('convertToInteractive',\n",
              "                                                    [key], {});\n",
              "        if (!dataTable) return;\n",
              "\n",
              "        const docLinkHtml = 'Like what you see? Visit the ' +\n",
              "          '<a target=\"_blank\" href=https://colab.research.google.com/notebooks/data_table.ipynb>data table notebook</a>'\n",
              "          + ' to learn more about interactive tables.';\n",
              "        element.innerHTML = '';\n",
              "        dataTable['output_type'] = 'display_data';\n",
              "        await google.colab.output.renderOutput(dataTable, element);\n",
              "        const docLink = document.createElement('div');\n",
              "        docLink.innerHTML = docLinkHtml;\n",
              "        element.appendChild(docLink);\n",
              "      }\n",
              "    </script>\n",
              "  </div>\n",
              "\n",
              "\n",
              "<div id=\"df-c8882128-7ae8-4b6b-9001-e654bc364418\">\n",
              "  <button class=\"colab-df-quickchart\" onclick=\"quickchart('df-c8882128-7ae8-4b6b-9001-e654bc364418')\"\n",
              "            title=\"Suggest charts\"\n",
              "            style=\"display:none;\">\n",
              "\n",
              "<svg xmlns=\"http://www.w3.org/2000/svg\" height=\"24px\"viewBox=\"0 0 24 24\"\n",
              "     width=\"24px\">\n",
              "    <g>\n",
              "        <path d=\"M19 3H5c-1.1 0-2 .9-2 2v14c0 1.1.9 2 2 2h14c1.1 0 2-.9 2-2V5c0-1.1-.9-2-2-2zM9 17H7v-7h2v7zm4 0h-2V7h2v10zm4 0h-2v-4h2v4z\"/>\n",
              "    </g>\n",
              "</svg>\n",
              "  </button>\n",
              "\n",
              "<style>\n",
              "  .colab-df-quickchart {\n",
              "      --bg-color: #E8F0FE;\n",
              "      --fill-color: #1967D2;\n",
              "      --hover-bg-color: #E2EBFA;\n",
              "      --hover-fill-color: #174EA6;\n",
              "      --disabled-fill-color: #AAA;\n",
              "      --disabled-bg-color: #DDD;\n",
              "  }\n",
              "\n",
              "  [theme=dark] .colab-df-quickchart {\n",
              "      --bg-color: #3B4455;\n",
              "      --fill-color: #D2E3FC;\n",
              "      --hover-bg-color: #434B5C;\n",
              "      --hover-fill-color: #FFFFFF;\n",
              "      --disabled-bg-color: #3B4455;\n",
              "      --disabled-fill-color: #666;\n",
              "  }\n",
              "\n",
              "  .colab-df-quickchart {\n",
              "    background-color: var(--bg-color);\n",
              "    border: none;\n",
              "    border-radius: 50%;\n",
              "    cursor: pointer;\n",
              "    display: none;\n",
              "    fill: var(--fill-color);\n",
              "    height: 32px;\n",
              "    padding: 0;\n",
              "    width: 32px;\n",
              "  }\n",
              "\n",
              "  .colab-df-quickchart:hover {\n",
              "    background-color: var(--hover-bg-color);\n",
              "    box-shadow: 0 1px 2px rgba(60, 64, 67, 0.3), 0 1px 3px 1px rgba(60, 64, 67, 0.15);\n",
              "    fill: var(--button-hover-fill-color);\n",
              "  }\n",
              "\n",
              "  .colab-df-quickchart-complete:disabled,\n",
              "  .colab-df-quickchart-complete:disabled:hover {\n",
              "    background-color: var(--disabled-bg-color);\n",
              "    fill: var(--disabled-fill-color);\n",
              "    box-shadow: none;\n",
              "  }\n",
              "\n",
              "  .colab-df-spinner {\n",
              "    border: 2px solid var(--fill-color);\n",
              "    border-color: transparent;\n",
              "    border-bottom-color: var(--fill-color);\n",
              "    animation:\n",
              "      spin 1s steps(1) infinite;\n",
              "  }\n",
              "\n",
              "  @keyframes spin {\n",
              "    0% {\n",
              "      border-color: transparent;\n",
              "      border-bottom-color: var(--fill-color);\n",
              "      border-left-color: var(--fill-color);\n",
              "    }\n",
              "    20% {\n",
              "      border-color: transparent;\n",
              "      border-left-color: var(--fill-color);\n",
              "      border-top-color: var(--fill-color);\n",
              "    }\n",
              "    30% {\n",
              "      border-color: transparent;\n",
              "      border-left-color: var(--fill-color);\n",
              "      border-top-color: var(--fill-color);\n",
              "      border-right-color: var(--fill-color);\n",
              "    }\n",
              "    40% {\n",
              "      border-color: transparent;\n",
              "      border-right-color: var(--fill-color);\n",
              "      border-top-color: var(--fill-color);\n",
              "    }\n",
              "    60% {\n",
              "      border-color: transparent;\n",
              "      border-right-color: var(--fill-color);\n",
              "    }\n",
              "    80% {\n",
              "      border-color: transparent;\n",
              "      border-right-color: var(--fill-color);\n",
              "      border-bottom-color: var(--fill-color);\n",
              "    }\n",
              "    90% {\n",
              "      border-color: transparent;\n",
              "      border-bottom-color: var(--fill-color);\n",
              "    }\n",
              "  }\n",
              "</style>\n",
              "\n",
              "  <script>\n",
              "    async function quickchart(key) {\n",
              "      const quickchartButtonEl =\n",
              "        document.querySelector('#' + key + ' button');\n",
              "      quickchartButtonEl.disabled = true;  // To prevent multiple clicks.\n",
              "      quickchartButtonEl.classList.add('colab-df-spinner');\n",
              "      try {\n",
              "        const charts = await google.colab.kernel.invokeFunction(\n",
              "            'suggestCharts', [key], {});\n",
              "      } catch (error) {\n",
              "        console.error('Error during call to suggestCharts:', error);\n",
              "      }\n",
              "      quickchartButtonEl.classList.remove('colab-df-spinner');\n",
              "      quickchartButtonEl.classList.add('colab-df-quickchart-complete');\n",
              "    }\n",
              "    (() => {\n",
              "      let quickchartButtonEl =\n",
              "        document.querySelector('#df-c8882128-7ae8-4b6b-9001-e654bc364418 button');\n",
              "      quickchartButtonEl.style.display =\n",
              "        google.colab.kernel.accessAllowed ? 'block' : 'none';\n",
              "    })();\n",
              "  </script>\n",
              "</div>\n",
              "    </div>\n",
              "  </div>\n"
            ],
            "application/vnd.google.colaboratory.intrinsic+json": {
              "type": "dataframe",
              "summary": "{\n  \"name\": \"df\",\n  \"rows\": 5,\n  \"fields\": [\n    {\n      \"column\": \"address\",\n      \"properties\": {\n        \"dtype\": \"string\",\n        \"num_unique_values\": 5,\n        \"samples\": [\n          \"\\u041a\\u0440\\u0430\\u0441\\u043d\\u043e\\u0434\\u0430\\u0440\\u0441\\u043a\\u0438\\u0439 \\u043a\\u0440\\u0430\\u0439, \\u0410\\u043d\\u0430\\u043f\\u0430, \\u041a\\u0440\\u0430\\u0441\\u043d\\u043e\\u0430\\u0440\\u043c\\u0435\\u0439\\u0441\\u043a\\u0430\\u044f \\u0443\\u043b\\u0438\\u0446\\u0430, 13\\u0421\",\n          \"\\u041a\\u0440\\u0430\\u0441\\u043d\\u043e\\u044f\\u0440\\u0441\\u043a, \\u0443\\u043b\\u0438\\u0446\\u0430 \\u041c\\u0435\\u0447\\u043d\\u0438\\u043a\\u043e\\u0432\\u0430, 34\",\n          \"\\u0423\\u0434\\u043c\\u0443\\u0440\\u0442\\u0441\\u043a\\u0430\\u044f \\u0420\\u0435\\u0441\\u043f\\u0443\\u0431\\u043b\\u0438\\u043a\\u0430, \\u0418\\u0436\\u0435\\u0432\\u0441\\u043a, \\u0423\\u0434\\u043c\\u0443\\u0440\\u0442\\u0441\\u043a\\u0430\\u044f \\u0443\\u043b\\u0438\\u0446\\u0430, 255\\u0410\"\n        ],\n        \"semantic_type\": \"\",\n        \"description\": \"\"\n      }\n    },\n    {\n      \"column\": \"name_ru\",\n      \"properties\": {\n        \"dtype\": \"string\",\n        \"num_unique_values\": 5,\n        \"samples\": [\n          \"\\u0426\\u0435\\u043d\\u0442\\u0440\\u0430\\u043b\\u044c\\u043d\\u044b\\u0439 \\u0440\\u044b\\u043d\\u043e\\u043a\",\n          \"\\u041d\\u0430 \\u041c\\u0435\\u0447\\u043d\\u0438\\u043a\\u043e\\u0432\\u0430\",\n          \"Prof-ton18\"\n        ],\n        \"semantic_type\": \"\",\n        \"description\": \"\"\n      }\n    },\n    {\n      \"column\": \"rating\",\n      \"properties\": {\n        \"dtype\": \"number\",\n        \"std\": 0,\n        \"min\": 5,\n        \"max\": 5,\n        \"num_unique_values\": 1,\n        \"samples\": [\n          5\n        ],\n        \"semantic_type\": \"\",\n        \"description\": \"\"\n      }\n    },\n    {\n      \"column\": \"rubrics\",\n      \"properties\": {\n        \"dtype\": \"string\",\n        \"num_unique_values\": 5,\n        \"samples\": [\n          \"\\u0420\\u044b\\u043d\\u043e\\u043a;\\u041f\\u0440\\u043e\\u0434\\u0443\\u043a\\u0442\\u043e\\u0432\\u044b\\u0439 \\u0440\\u044b\\u043d\\u043e\\u043a\"\n        ],\n        \"semantic_type\": \"\",\n        \"description\": \"\"\n      }\n    },\n    {\n      \"column\": \"text\",\n      \"properties\": {\n        \"dtype\": \"string\",\n        \"num_unique_values\": 5,\n        \"samples\": [\n          \"\\u042f \\u043d\\u0435 \\u0432\\u0435\\u0441\\u044c \\u043e\\u0431\\u043e\\u0448\\u043b\\u0430, \\u043d\\u043e \\u043c\\u043d\\u0435 \\u043f\\u043e\\u043d\\u0440\\u0430\\u0432\\u0438\\u043b\\u0441\\u044f . \\u0421\\u0430\\u0436\\u0435\\u043d\\u0446\\u044b \\u043f\\u043e\\u043a\\u0443\\u043f\\u0430\\u043b\\u0430, \\u043e\\u0441\\u0442\\u0430\\u043b\\u0430\\u0441\\u044c \\u043e\\u0447\\u0435\\u043d\\u044c  \\u0434\\u043e\\u0432\\u043e\\u043b\\u044c\\u043d\\u0430 !!!  \\u0423\\u0434\\u043e\\u0431\\u043d\\u043e\\u0435 \\u043c\\u0435\\u0441\\u0442\\u043e\\u043f\\u043e\\u043b\\u043e\\u0436\\u0435\\u043d\\u0438\\u0435. \\u0412\\u0441\\u0451 \\u0440\\u044f\\u0434\\u043e\\u043c .\"\n        ],\n        \"semantic_type\": \"\",\n        \"description\": \"\"\n      }\n    }\n  ]\n}"
            }
          },
          "metadata": {},
          "execution_count": 11
        }
      ]
    },
    {
      "cell_type": "markdown",
      "source": [
        "## Очистка данных"
      ],
      "metadata": {
        "id": "8yCs85871nlL"
      }
    },
    {
      "cell_type": "code",
      "source": [
        "# Проверка наличия и кол-ва пропусков значений\n",
        "empty = df.isnull().sum()\n",
        "print(f\"Пропуски \\n{empty} строк \\n\")\n",
        "\n",
        "# Удаление пустых значений, если они есть\n",
        "if empty.sum() > 0:\n",
        "  df = df.dropna(subset=['name_ru'])\n",
        "\n",
        "# Проверка на дубликаты\n",
        "duplicates = df.duplicated().sum()\n",
        "print(f\"Дубликаты {duplicates} строк\")\n",
        "\n",
        "# Удаление дубликатов если они есть\n",
        "if duplicates > 0:\n",
        "  df = df.drop_duplicates(subset=['text']).reset_index(drop=True)"
      ],
      "metadata": {
        "colab": {
          "base_uri": "https://localhost:8080/"
        },
        "id": "EZcThAzP04zr",
        "outputId": "9435a3e6-9756-433b-a5aa-3877628b97d8"
      },
      "execution_count": 12,
      "outputs": [
        {
          "output_type": "stream",
          "name": "stdout",
          "text": [
            "Пропуски \n",
            "address      0\n",
            "name_ru    970\n",
            "rating       0\n",
            "rubrics      0\n",
            "text         0\n",
            "dtype: int64 строк \n",
            "\n",
            "Дубликаты 1 строк\n"
          ]
        }
      ]
    },
    {
      "cell_type": "markdown",
      "source": [
        "## Подсчёт поличества мест и рубрик"
      ],
      "metadata": {
        "id": "4L-ShY0j173d"
      }
    },
    {
      "cell_type": "code",
      "source": [
        "# Подсчёт кол-ва рубрик\n",
        "rubrics_count = df['rubrics'].nunique()\n",
        "\n",
        "print(f'Количество уникальных рубрик: {rubrics_count} \\n')\n",
        "\n",
        "# Подсчет кол-ва уникальных адресов\n",
        "address_count = df['address'].nunique()\n",
        "\n",
        "print(f'Количество уникальных адресов: {address_count}')"
      ],
      "metadata": {
        "colab": {
          "base_uri": "https://localhost:8080/"
        },
        "id": "-J-HjTuV-2lV",
        "outputId": "fd8b9560-9758-4db2-bb9c-5743131382cc"
      },
      "execution_count": 13,
      "outputs": [
        {
          "output_type": "stream",
          "name": "stdout",
          "text": [
            "Количество уникальных рубрик: 31722 \n",
            "\n",
            "Количество уникальных адресов: 191575\n"
          ]
        }
      ]
    },
    {
      "cell_type": "markdown",
      "source": [
        "## Сохранение полученного DataFrame на Google Drive"
      ],
      "metadata": {
        "id": "QJDgB2VhAioc"
      }
    },
    {
      "cell_type": "code",
      "source": [
        "df.to_csv(\"/content/drive/MyDrive/invest/my_courses/ml_urfu/3 sem/hackaton/df_prepare.csv\", index=False)"
      ],
      "metadata": {
        "id": "WLtwdtFDAh6y"
      },
      "execution_count": 14,
      "outputs": []
    }
  ]
}